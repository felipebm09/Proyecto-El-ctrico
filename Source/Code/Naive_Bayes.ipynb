{
 "cells": [
  {
   "cell_type": "markdown",
   "metadata": {},
   "source": [
    "# Naive Bayes Classifier"
   ]
  },
  {
   "cell_type": "code",
   "execution_count": 121,
   "metadata": {},
   "outputs": [],
   "source": [
    "# import libraries\n",
    "%matplotlib inline\n",
    "import numpy as np\n",
    "import pandas as pd\n",
    "import matplotlib.pyplot as plt\n",
    "import os\n",
    "\n",
    "from sklearn.model_selection import train_test_split                            # Para separar datos en pruebas y entrenamiento\n",
    "from sklearn.naive_bayes import MultinomialNB                                   # Para Modelo de Naive Bayers Multinomial\n",
    "from sklearn.naive_bayes import GaussianNB                                      # Para Modelo de Naive Bayers Multinomial\n",
    "from sklearn.naive_bayes import BernoulliNB                                     # Para Modelo de Naive Bayers Multinomial\n",
    "from sklearn.metrics import recall_score, precision_score, f1_score             # Para medir rendimiento del modelo\n",
    "from sklearn.model_selection import cross_val_score                                       # Para hacer validación cruzada\n",
    "from pickle import dump"
   ]
  },
  {
   "cell_type": "code",
   "execution_count": 122,
   "metadata": {},
   "outputs": [
    {
     "name": "stdout",
     "output_type": "stream",
     "text": [
      "Analyzing document:  c:\\Users\\felip\\Documents\\Universidad\\1s2022\\Proyecto_Electrico\\Source\\Results\\ML_input.xlsx\n"
     ]
    },
    {
     "data": {
      "text/html": [
       "<div>\n",
       "<style scoped>\n",
       "    .dataframe tbody tr th:only-of-type {\n",
       "        vertical-align: middle;\n",
       "    }\n",
       "\n",
       "    .dataframe tbody tr th {\n",
       "        vertical-align: top;\n",
       "    }\n",
       "\n",
       "    .dataframe thead th {\n",
       "        text-align: right;\n",
       "    }\n",
       "</style>\n",
       "<table border=\"1\" class=\"dataframe\">\n",
       "  <thead>\n",
       "    <tr style=\"text-align: right;\">\n",
       "      <th></th>\n",
       "      <th>Socketing</th>\n",
       "      <th>G/B_flag</th>\n",
       "      <th>Test_Time</th>\n",
       "      <th>Bines_General</th>\n",
       "      <th>Bines_NLot</th>\n",
       "      <th>8</th>\n",
       "      <th>9</th>\n",
       "      <th>10</th>\n",
       "      <th>11</th>\n",
       "      <th>13</th>\n",
       "      <th>...</th>\n",
       "      <th>60</th>\n",
       "      <th>62</th>\n",
       "      <th>64</th>\n",
       "      <th>68</th>\n",
       "      <th>92</th>\n",
       "      <th>94</th>\n",
       "      <th>97</th>\n",
       "      <th>98</th>\n",
       "      <th>99</th>\n",
       "      <th>53</th>\n",
       "    </tr>\n",
       "  </thead>\n",
       "  <tbody>\n",
       "    <tr>\n",
       "      <th>0</th>\n",
       "      <td>0.524246</td>\n",
       "      <td>1</td>\n",
       "      <td>0.673351</td>\n",
       "      <td>0.055872</td>\n",
       "      <td>0.536334</td>\n",
       "      <td>0.037736</td>\n",
       "      <td>0.023810</td>\n",
       "      <td>0.000000</td>\n",
       "      <td>0.03125</td>\n",
       "      <td>0.029412</td>\n",
       "      <td>...</td>\n",
       "      <td>0.0</td>\n",
       "      <td>0.0</td>\n",
       "      <td>0.00000</td>\n",
       "      <td>0.166667</td>\n",
       "      <td>0.000000</td>\n",
       "      <td>0.048048</td>\n",
       "      <td>0.000000</td>\n",
       "      <td>0.080645</td>\n",
       "      <td>0.000000</td>\n",
       "      <td>0.0</td>\n",
       "    </tr>\n",
       "    <tr>\n",
       "      <th>1</th>\n",
       "      <td>0.735618</td>\n",
       "      <td>0</td>\n",
       "      <td>0.613572</td>\n",
       "      <td>0.077850</td>\n",
       "      <td>0.542234</td>\n",
       "      <td>0.037736</td>\n",
       "      <td>0.047619</td>\n",
       "      <td>0.000000</td>\n",
       "      <td>0.03125</td>\n",
       "      <td>0.058824</td>\n",
       "      <td>...</td>\n",
       "      <td>0.0</td>\n",
       "      <td>0.0</td>\n",
       "      <td>0.03125</td>\n",
       "      <td>0.208333</td>\n",
       "      <td>0.000000</td>\n",
       "      <td>0.057057</td>\n",
       "      <td>0.000000</td>\n",
       "      <td>0.112903</td>\n",
       "      <td>0.052632</td>\n",
       "      <td>0.0</td>\n",
       "    </tr>\n",
       "    <tr>\n",
       "      <th>2</th>\n",
       "      <td>0.313007</td>\n",
       "      <td>1</td>\n",
       "      <td>0.642400</td>\n",
       "      <td>0.103403</td>\n",
       "      <td>0.187070</td>\n",
       "      <td>0.150943</td>\n",
       "      <td>0.047619</td>\n",
       "      <td>0.000000</td>\n",
       "      <td>0.03125</td>\n",
       "      <td>0.213235</td>\n",
       "      <td>...</td>\n",
       "      <td>0.0</td>\n",
       "      <td>0.0</td>\n",
       "      <td>0.12500</td>\n",
       "      <td>0.166667</td>\n",
       "      <td>0.000000</td>\n",
       "      <td>0.096096</td>\n",
       "      <td>0.805556</td>\n",
       "      <td>0.000000</td>\n",
       "      <td>0.157895</td>\n",
       "      <td>0.0</td>\n",
       "    </tr>\n",
       "    <tr>\n",
       "      <th>3</th>\n",
       "      <td>0.439883</td>\n",
       "      <td>0</td>\n",
       "      <td>0.587529</td>\n",
       "      <td>0.137561</td>\n",
       "      <td>0.157966</td>\n",
       "      <td>0.245283</td>\n",
       "      <td>0.047619</td>\n",
       "      <td>0.000000</td>\n",
       "      <td>0.03125</td>\n",
       "      <td>0.477941</td>\n",
       "      <td>...</td>\n",
       "      <td>0.0</td>\n",
       "      <td>0.0</td>\n",
       "      <td>0.12500</td>\n",
       "      <td>0.291667</td>\n",
       "      <td>0.000000</td>\n",
       "      <td>0.138138</td>\n",
       "      <td>0.833333</td>\n",
       "      <td>0.000000</td>\n",
       "      <td>0.157895</td>\n",
       "      <td>0.0</td>\n",
       "    </tr>\n",
       "    <tr>\n",
       "      <th>4</th>\n",
       "      <td>0.017803</td>\n",
       "      <td>1</td>\n",
       "      <td>0.617035</td>\n",
       "      <td>0.004766</td>\n",
       "      <td>0.398706</td>\n",
       "      <td>0.018868</td>\n",
       "      <td>0.000000</td>\n",
       "      <td>0.000000</td>\n",
       "      <td>0.00000</td>\n",
       "      <td>0.000000</td>\n",
       "      <td>...</td>\n",
       "      <td>0.0</td>\n",
       "      <td>0.0</td>\n",
       "      <td>0.00000</td>\n",
       "      <td>0.000000</td>\n",
       "      <td>0.017544</td>\n",
       "      <td>0.000000</td>\n",
       "      <td>0.000000</td>\n",
       "      <td>0.000000</td>\n",
       "      <td>0.000000</td>\n",
       "      <td>0.0</td>\n",
       "    </tr>\n",
       "    <tr>\n",
       "      <th>...</th>\n",
       "      <td>...</td>\n",
       "      <td>...</td>\n",
       "      <td>...</td>\n",
       "      <td>...</td>\n",
       "      <td>...</td>\n",
       "      <td>...</td>\n",
       "      <td>...</td>\n",
       "      <td>...</td>\n",
       "      <td>...</td>\n",
       "      <td>...</td>\n",
       "      <td>...</td>\n",
       "      <td>...</td>\n",
       "      <td>...</td>\n",
       "      <td>...</td>\n",
       "      <td>...</td>\n",
       "      <td>...</td>\n",
       "      <td>...</td>\n",
       "      <td>...</td>\n",
       "      <td>...</td>\n",
       "      <td>...</td>\n",
       "      <td>...</td>\n",
       "    </tr>\n",
       "    <tr>\n",
       "      <th>2463</th>\n",
       "      <td>0.159028</td>\n",
       "      <td>1</td>\n",
       "      <td>0.676215</td>\n",
       "      <td>0.162452</td>\n",
       "      <td>0.176964</td>\n",
       "      <td>0.000000</td>\n",
       "      <td>0.071429</td>\n",
       "      <td>0.000000</td>\n",
       "      <td>0.00000</td>\n",
       "      <td>0.029412</td>\n",
       "      <td>...</td>\n",
       "      <td>0.0</td>\n",
       "      <td>0.0</td>\n",
       "      <td>0.03125</td>\n",
       "      <td>0.041667</td>\n",
       "      <td>0.000000</td>\n",
       "      <td>0.015015</td>\n",
       "      <td>0.000000</td>\n",
       "      <td>0.032258</td>\n",
       "      <td>0.052632</td>\n",
       "      <td>0.0</td>\n",
       "    </tr>\n",
       "    <tr>\n",
       "      <th>2464</th>\n",
       "      <td>0.224259</td>\n",
       "      <td>0</td>\n",
       "      <td>0.557892</td>\n",
       "      <td>0.226930</td>\n",
       "      <td>0.181503</td>\n",
       "      <td>0.000000</td>\n",
       "      <td>0.095238</td>\n",
       "      <td>0.000000</td>\n",
       "      <td>0.00000</td>\n",
       "      <td>0.058824</td>\n",
       "      <td>...</td>\n",
       "      <td>0.0</td>\n",
       "      <td>0.0</td>\n",
       "      <td>0.06250</td>\n",
       "      <td>0.041667</td>\n",
       "      <td>0.000000</td>\n",
       "      <td>0.018018</td>\n",
       "      <td>0.000000</td>\n",
       "      <td>0.032258</td>\n",
       "      <td>0.105263</td>\n",
       "      <td>0.0</td>\n",
       "    </tr>\n",
       "    <tr>\n",
       "      <th>2465</th>\n",
       "      <td>0.007573</td>\n",
       "      <td>1</td>\n",
       "      <td>0.482279</td>\n",
       "      <td>0.010989</td>\n",
       "      <td>0.163959</td>\n",
       "      <td>0.000000</td>\n",
       "      <td>0.000000</td>\n",
       "      <td>0.032258</td>\n",
       "      <td>0.00000</td>\n",
       "      <td>0.000000</td>\n",
       "      <td>...</td>\n",
       "      <td>0.0</td>\n",
       "      <td>0.0</td>\n",
       "      <td>0.00000</td>\n",
       "      <td>0.000000</td>\n",
       "      <td>0.000000</td>\n",
       "      <td>0.003003</td>\n",
       "      <td>0.000000</td>\n",
       "      <td>0.000000</td>\n",
       "      <td>0.000000</td>\n",
       "      <td>0.0</td>\n",
       "    </tr>\n",
       "    <tr>\n",
       "      <th>2466</th>\n",
       "      <td>0.031487</td>\n",
       "      <td>1</td>\n",
       "      <td>0.708604</td>\n",
       "      <td>0.034821</td>\n",
       "      <td>0.156564</td>\n",
       "      <td>0.000000</td>\n",
       "      <td>0.023810</td>\n",
       "      <td>0.000000</td>\n",
       "      <td>0.00000</td>\n",
       "      <td>0.014706</td>\n",
       "      <td>...</td>\n",
       "      <td>0.0</td>\n",
       "      <td>0.0</td>\n",
       "      <td>0.00000</td>\n",
       "      <td>0.000000</td>\n",
       "      <td>0.070175</td>\n",
       "      <td>0.006006</td>\n",
       "      <td>0.166667</td>\n",
       "      <td>0.016129</td>\n",
       "      <td>0.000000</td>\n",
       "      <td>0.0</td>\n",
       "    </tr>\n",
       "    <tr>\n",
       "      <th>2467</th>\n",
       "      <td>0.067092</td>\n",
       "      <td>1</td>\n",
       "      <td>0.500149</td>\n",
       "      <td>0.070436</td>\n",
       "      <td>0.168810</td>\n",
       "      <td>0.037736</td>\n",
       "      <td>0.071429</td>\n",
       "      <td>0.000000</td>\n",
       "      <td>0.00000</td>\n",
       "      <td>0.014706</td>\n",
       "      <td>...</td>\n",
       "      <td>0.0</td>\n",
       "      <td>0.0</td>\n",
       "      <td>0.00000</td>\n",
       "      <td>0.000000</td>\n",
       "      <td>0.070175</td>\n",
       "      <td>0.018018</td>\n",
       "      <td>0.166667</td>\n",
       "      <td>0.016129</td>\n",
       "      <td>0.052632</td>\n",
       "      <td>0.0</td>\n",
       "    </tr>\n",
       "  </tbody>\n",
       "</table>\n",
       "<p>2468 rows × 36 columns</p>\n",
       "</div>"
      ],
      "text/plain": [
       "      Socketing  G/B_flag  Test_Time  Bines_General  Bines_NLot         8  \\\n",
       "0      0.524246         1   0.673351       0.055872    0.536334  0.037736   \n",
       "1      0.735618         0   0.613572       0.077850    0.542234  0.037736   \n",
       "2      0.313007         1   0.642400       0.103403    0.187070  0.150943   \n",
       "3      0.439883         0   0.587529       0.137561    0.157966  0.245283   \n",
       "4      0.017803         1   0.617035       0.004766    0.398706  0.018868   \n",
       "...         ...       ...        ...            ...         ...       ...   \n",
       "2463   0.159028         1   0.676215       0.162452    0.176964  0.000000   \n",
       "2464   0.224259         0   0.557892       0.226930    0.181503  0.000000   \n",
       "2465   0.007573         1   0.482279       0.010989    0.163959  0.000000   \n",
       "2466   0.031487         1   0.708604       0.034821    0.156564  0.000000   \n",
       "2467   0.067092         1   0.500149       0.070436    0.168810  0.037736   \n",
       "\n",
       "             9        10       11        13  ...   60   62       64        68  \\\n",
       "0     0.023810  0.000000  0.03125  0.029412  ...  0.0  0.0  0.00000  0.166667   \n",
       "1     0.047619  0.000000  0.03125  0.058824  ...  0.0  0.0  0.03125  0.208333   \n",
       "2     0.047619  0.000000  0.03125  0.213235  ...  0.0  0.0  0.12500  0.166667   \n",
       "3     0.047619  0.000000  0.03125  0.477941  ...  0.0  0.0  0.12500  0.291667   \n",
       "4     0.000000  0.000000  0.00000  0.000000  ...  0.0  0.0  0.00000  0.000000   \n",
       "...        ...       ...      ...       ...  ...  ...  ...      ...       ...   \n",
       "2463  0.071429  0.000000  0.00000  0.029412  ...  0.0  0.0  0.03125  0.041667   \n",
       "2464  0.095238  0.000000  0.00000  0.058824  ...  0.0  0.0  0.06250  0.041667   \n",
       "2465  0.000000  0.032258  0.00000  0.000000  ...  0.0  0.0  0.00000  0.000000   \n",
       "2466  0.023810  0.000000  0.00000  0.014706  ...  0.0  0.0  0.00000  0.000000   \n",
       "2467  0.071429  0.000000  0.00000  0.014706  ...  0.0  0.0  0.00000  0.000000   \n",
       "\n",
       "            92        94        97        98        99   53  \n",
       "0     0.000000  0.048048  0.000000  0.080645  0.000000  0.0  \n",
       "1     0.000000  0.057057  0.000000  0.112903  0.052632  0.0  \n",
       "2     0.000000  0.096096  0.805556  0.000000  0.157895  0.0  \n",
       "3     0.000000  0.138138  0.833333  0.000000  0.157895  0.0  \n",
       "4     0.017544  0.000000  0.000000  0.000000  0.000000  0.0  \n",
       "...        ...       ...       ...       ...       ...  ...  \n",
       "2463  0.000000  0.015015  0.000000  0.032258  0.052632  0.0  \n",
       "2464  0.000000  0.018018  0.000000  0.032258  0.105263  0.0  \n",
       "2465  0.000000  0.003003  0.000000  0.000000  0.000000  0.0  \n",
       "2466  0.070175  0.006006  0.166667  0.016129  0.000000  0.0  \n",
       "2467  0.070175  0.018018  0.166667  0.016129  0.052632  0.0  \n",
       "\n",
       "[2468 rows x 36 columns]"
      ]
     },
     "execution_count": 122,
     "metadata": {},
     "output_type": "execute_result"
    }
   ],
   "source": [
    "# import data\n",
    "# Manejo de archivos\n",
    "file_name = 'ML_input.xlsx'\n",
    "current_dir = os.getcwd()\n",
    "Rutabase = os.path.abspath(os.path.join(current_dir, os.pardir))\n",
    "RESULTS_DIR = \"\\Results\"\n",
    "excel_filename = Rutabase + RESULTS_DIR +  '\\ML_input.xlsx'\n",
    "print('Analyzing document: ',excel_filename)\n",
    "data = pd.read_excel(excel_filename)\n",
    "data"
   ]
  },
  {
   "cell_type": "code",
   "execution_count": 123,
   "metadata": {},
   "outputs": [
    {
     "name": "stdout",
     "output_type": "stream",
     "text": [
      "(1727, 35)\n",
      "(741, 35)\n"
     ]
    }
   ],
   "source": [
    "# Separar datos entre entrenamiento y pruebas\n",
    "tag = data['G/B_flag']\n",
    "data = data.drop(['G/B_flag'], axis=1)\n",
    "x_train, x_test, y_train, y_test = train_test_split(data, tag, test_size=0.3, random_state=88)\n",
    "print(x_train.shape)\n",
    "print(x_test.shape)"
   ]
  },
  {
   "cell_type": "code",
   "execution_count": 124,
   "metadata": {},
   "outputs": [],
   "source": [
    "# Creación de modelo\n",
    "classifier_multinomial = MultinomialNB()\n",
    "classifier_gaussian = GaussianNB()\n",
    "classifier_bernuilli = BernoulliNB()\n",
    "\n",
    "# Entrenamiento del modelo\n",
    "classifier_multinomial.fit(x_train, y_train)\n",
    "classifier_gaussian.fit(x_train, y_train)\n",
    "classifier_bernuilli.fit(x_train, y_train)\n",
    "\n",
    "# save the model\n",
    "dump(classifier_multinomial, open('model_MULT.pkl', 'wb'))\n",
    "dump(classifier_bernuilli, open('model_BERNU.pkl', 'wb'))\n",
    "dump(classifier_gaussian, open('model_GAUS.pkl', 'wb'))"
   ]
  },
  {
   "cell_type": "code",
   "execution_count": 125,
   "metadata": {},
   "outputs": [],
   "source": [
    "# nr_correct = (y_test == classifier.predict(x_test)).sum()\n",
    "# print(f'{nr_correct} collaterals predicted correctly')\n",
    "\n",
    "# nr_incorrect = y_test.size - nr_correct\n",
    "# print(f'{nr_incorrect} collaterals predicted incorrectly')\n",
    "\n",
    "# fraction_wrong = nr_incorrect / (nr_correct + nr_incorrect)\n",
    "# print(f'The testing accuracy of the model is {1-fraction_wrong:.2%}')"
   ]
  },
  {
   "cell_type": "code",
   "execution_count": 126,
   "metadata": {},
   "outputs": [
    {
     "name": "stdout",
     "output_type": "stream",
     "text": [
      "Multinomial:  82.86099865047234\n",
      "Bernuilli:  71.39001349527665\n",
      "Gaussian:  80.16194331983806\n"
     ]
    }
   ],
   "source": [
    "print('Multinomial: ', classifier_multinomial.score(x_test, y_test)*100)\n",
    "print('Bernuilli: ', classifier_bernuilli.score(x_test, y_test)*100)\n",
    "print('Gaussian: ', classifier_gaussian.score(x_test, y_test)*100)"
   ]
  },
  {
   "cell_type": "code",
   "execution_count": 127,
   "metadata": {},
   "outputs": [
    {
     "name": "stdout",
     "output_type": "stream",
     "text": [
      "Multinomial:  100.0\n",
      "Bernuilli:  74.63175122749591\n",
      "Gaussian:  89.19803600654664\n"
     ]
    }
   ],
   "source": [
    "print('Multinomial: ', recall_score(y_test, classifier_multinomial.predict(x_test))*100)\n",
    "print('Bernuilli: ', recall_score(y_test, classifier_bernuilli.predict(x_test))*100)\n",
    "print('Gaussian: ', recall_score(y_test, classifier_gaussian.predict(x_test))*100)\n"
   ]
  },
  {
   "cell_type": "code",
   "execution_count": 128,
   "metadata": {},
   "outputs": [
    {
     "name": "stdout",
     "output_type": "stream",
     "text": [
      "Multinomial:  82.79132791327913\n",
      "Bernuilli:  88.88888888888889\n",
      "Gaussian:  87.06070287539937\n"
     ]
    }
   ],
   "source": [
    "print('Multinomial: ', precision_score(y_test, classifier_multinomial.predict(x_test))*100)\n",
    "print('Bernuilli: ', precision_score(y_test, classifier_bernuilli.predict(x_test))*100)\n",
    "print('Gaussian: ', precision_score(y_test, classifier_gaussian.predict(x_test))*100)\n"
   ]
  },
  {
   "cell_type": "code",
   "execution_count": 129,
   "metadata": {},
   "outputs": [
    {
     "name": "stdout",
     "output_type": "stream",
     "text": [
      "Multinomial:  90.58561897702002\n",
      "Bernuilli:  81.13879003558718\n",
      "Gaussian:  88.11641067097817\n"
     ]
    }
   ],
   "source": [
    "print('Multinomial: ', f1_score(y_test, classifier_multinomial.predict(x_test))*100)\n",
    "print('Bernuilli: ', f1_score(y_test, classifier_bernuilli.predict(x_test))*100)\n",
    "print('Gaussian: ', f1_score(y_test, classifier_gaussian.predict(x_test))*100)\n"
   ]
  },
  {
   "cell_type": "markdown",
   "metadata": {},
   "source": [
    "### Cross Validation"
   ]
  },
  {
   "cell_type": "code",
   "execution_count": 130,
   "metadata": {},
   "outputs": [],
   "source": [
    "def get_score(model, X_train, X_test, y_train, y_test):\n",
    "    model.fit(X_train, y_train)\n",
    "    return(model.score(X_test, y_test))"
   ]
  },
  {
   "cell_type": "code",
   "execution_count": 131,
   "metadata": {},
   "outputs": [
    {
     "ename": "NameError",
     "evalue": "name 'KFold' is not defined",
     "output_type": "error",
     "traceback": [
      "\u001b[1;31m---------------------------------------------------------------------------\u001b[0m",
      "\u001b[1;31mNameError\u001b[0m                                 Traceback (most recent call last)",
      "\u001b[1;32m<ipython-input-131-2f033dec68b2>\u001b[0m in \u001b[0;36m<module>\u001b[1;34m\u001b[0m\n\u001b[1;32m----> 1\u001b[1;33m \u001b[0mkf\u001b[0m \u001b[1;33m=\u001b[0m \u001b[0mKFold\u001b[0m\u001b[1;33m(\u001b[0m\u001b[0mn_splits\u001b[0m \u001b[1;33m=\u001b[0m \u001b[1;36m4\u001b[0m\u001b[1;33m)\u001b[0m\u001b[1;33m\u001b[0m\u001b[1;33m\u001b[0m\u001b[0m\n\u001b[0m\u001b[0;32m      2\u001b[0m \u001b[1;32mfor\u001b[0m \u001b[0mtrain_index\u001b[0m\u001b[1;33m,\u001b[0m \u001b[0mtest_index\u001b[0m \u001b[1;32min\u001b[0m \u001b[0mkf\u001b[0m\u001b[1;33m.\u001b[0m\u001b[0msplit\u001b[0m\u001b[1;33m(\u001b[0m\u001b[1;33m[\u001b[0m\u001b[1;36m1\u001b[0m\u001b[1;33m,\u001b[0m \u001b[1;36m2\u001b[0m\u001b[1;33m,\u001b[0m \u001b[1;36m3\u001b[0m\u001b[1;33m,\u001b[0m \u001b[1;36m4\u001b[0m\u001b[1;33m,\u001b[0m \u001b[1;36m5\u001b[0m\u001b[1;33m,\u001b[0m \u001b[1;36m6\u001b[0m\u001b[1;33m,\u001b[0m \u001b[1;36m7\u001b[0m\u001b[1;33m,\u001b[0m \u001b[1;36m8\u001b[0m\u001b[1;33m,\u001b[0m \u001b[1;36m9\u001b[0m\u001b[1;33m,\u001b[0m \u001b[1;36m10\u001b[0m\u001b[1;33m,\u001b[0m \u001b[1;36m11\u001b[0m\u001b[1;33m,\u001b[0m \u001b[1;36m12\u001b[0m\u001b[1;33m]\u001b[0m\u001b[1;33m)\u001b[0m\u001b[1;33m:\u001b[0m\u001b[1;33m\u001b[0m\u001b[1;33m\u001b[0m\u001b[0m\n\u001b[0;32m      3\u001b[0m     \u001b[0mprint\u001b[0m\u001b[1;33m(\u001b[0m\u001b[0mtrain_index\u001b[0m\u001b[1;33m,\u001b[0m \u001b[0mtest_index\u001b[0m\u001b[1;33m)\u001b[0m\u001b[1;33m\u001b[0m\u001b[1;33m\u001b[0m\u001b[0m\n",
      "\u001b[1;31mNameError\u001b[0m: name 'KFold' is not defined"
     ]
    }
   ],
   "source": [
    "kf = KFold(n_splits = 4)\n",
    "for train_index, test_index in kf.split([1, 2, 3, 4, 5, 6, 7, 8, 9, 10, 11, 12]):\n",
    "    print(train_index, test_index)"
   ]
  },
  {
   "cell_type": "markdown",
   "metadata": {},
   "source": []
  },
  {
   "cell_type": "code",
   "execution_count": null,
   "metadata": {},
   "outputs": [
    {
     "ename": "NameError",
     "evalue": "name 'digits' is not defined",
     "output_type": "error",
     "traceback": [
      "\u001b[1;31m---------------------------------------------------------------------------\u001b[0m",
      "\u001b[1;31mNameError\u001b[0m                                 Traceback (most recent call last)",
      "\u001b[1;32m<ipython-input-37-1f4d3c23c2b2>\u001b[0m in \u001b[0;36m<module>\u001b[1;34m\u001b[0m\n\u001b[0;32m      4\u001b[0m \u001b[0mscores_bernuilli\u001b[0m \u001b[1;33m=\u001b[0m \u001b[1;33m[\u001b[0m\u001b[1;33m]\u001b[0m\u001b[1;33m\u001b[0m\u001b[1;33m\u001b[0m\u001b[0m\n\u001b[0;32m      5\u001b[0m \u001b[1;33m\u001b[0m\u001b[0m\n\u001b[1;32m----> 6\u001b[1;33m \u001b[1;32mfor\u001b[0m \u001b[0mtrain_index\u001b[0m\u001b[1;33m,\u001b[0m \u001b[0mtest_index\u001b[0m \u001b[1;32min\u001b[0m \u001b[0mkf\u001b[0m\u001b[1;33m.\u001b[0m\u001b[0msplit\u001b[0m\u001b[1;33m(\u001b[0m\u001b[0mdigits\u001b[0m\u001b[1;33m.\u001b[0m\u001b[0mdata\u001b[0m\u001b[1;33m)\u001b[0m\u001b[1;33m:\u001b[0m\u001b[1;33m\u001b[0m\u001b[1;33m\u001b[0m\u001b[0m\n\u001b[0m\u001b[0;32m      7\u001b[0m     \u001b[0mX_train\u001b[0m\u001b[1;33m,\u001b[0m \u001b[0mX_test\u001b[0m\u001b[1;33m,\u001b[0m \u001b[0my_train\u001b[0m\u001b[1;33m,\u001b[0m \u001b[0my_test\u001b[0m \u001b[1;33m=\u001b[0m \u001b[0mdigits\u001b[0m\u001b[1;33m.\u001b[0m\u001b[0mdata\u001b[0m\u001b[1;33m[\u001b[0m\u001b[0mtrain_index\u001b[0m\u001b[1;33m]\u001b[0m\u001b[1;33m,\u001b[0m \u001b[0mdigits\u001b[0m\u001b[1;33m.\u001b[0m\u001b[0mdata\u001b[0m\u001b[1;33m[\u001b[0m\u001b[0mtest_index\u001b[0m\u001b[1;33m]\u001b[0m\u001b[1;33m,\u001b[0m \u001b[0mdigits\u001b[0m\u001b[1;33m.\u001b[0m\u001b[0mtarget\u001b[0m\u001b[1;33m[\u001b[0m\u001b[0mtrain_index\u001b[0m\u001b[1;33m]\u001b[0m\u001b[1;33m,\u001b[0m \u001b[0mdigits\u001b[0m\u001b[1;33m.\u001b[0m\u001b[0mtarget\u001b[0m\u001b[1;33m[\u001b[0m\u001b[0mtest_index\u001b[0m\u001b[1;33m]\u001b[0m\u001b[1;33m\u001b[0m\u001b[1;33m\u001b[0m\u001b[0m\n\u001b[0;32m      8\u001b[0m     \u001b[0mscores_bernuilli\u001b[0m\u001b[1;33m.\u001b[0m\u001b[0mappend\u001b[0m\u001b[1;33m(\u001b[0m\u001b[0mget_score\u001b[0m\u001b[1;33m(\u001b[0m\u001b[0mBernoulliNB\u001b[0m\u001b[1;33m(\u001b[0m\u001b[1;33m)\u001b[0m\u001b[1;33m,\u001b[0m \u001b[0mX_train\u001b[0m\u001b[1;33m,\u001b[0m \u001b[0mX_test\u001b[0m\u001b[1;33m,\u001b[0m \u001b[0my_train\u001b[0m\u001b[1;33m,\u001b[0m \u001b[0my_test\u001b[0m\u001b[1;33m)\u001b[0m\u001b[1;33m)\u001b[0m\u001b[1;33m\u001b[0m\u001b[1;33m\u001b[0m\u001b[0m\n",
      "\u001b[1;31mNameError\u001b[0m: name 'digits' is not defined"
     ]
    }
   ],
   "source": [
    "cross_val_score(MultinomialNB(), data_1)\n",
    "cross_val_score(GaussianNB(), data_1)\n",
    "cross_val_score(BernoulliNB(), data_1)\n"
   ]
  },
  {
   "cell_type": "code",
   "execution_count": null,
   "metadata": {},
   "outputs": [],
   "source": [
    "#importar ejemplos para predicción\n",
    "# file_name = 'ML_input2.xlsx'\n",
    "# current_file = os.path.abspath(os.path.dirname(file_name))\n",
    "# excel_filename = current_file + '\\ML_input2.xlsx'\n",
    "# print('Analyzing document: ',excel_filename)\n",
    "# sample = pd.read_excel(excel_filename)\n",
    "# sample = sample.drop(['TIU'], axis=1)\n",
    "# sample = sample.drop(['Unnamed: 0'], axis=1)\n",
    "\n",
    "# classifier.predict(sample)\n"
   ]
  }
 ],
 "metadata": {
  "kernelspec": {
   "display_name": "Python 3.9.5 64-bit",
   "language": "python",
   "name": "python3"
  },
  "language_info": {
   "codemirror_mode": {
    "name": "ipython",
    "version": 3
   },
   "file_extension": ".py",
   "mimetype": "text/x-python",
   "name": "python",
   "nbconvert_exporter": "python",
   "pygments_lexer": "ipython3",
   "version": "3.9.5"
  },
  "orig_nbformat": 4,
  "vscode": {
   "interpreter": {
    "hash": "1a0efc7ed7210c8daa9aadd584bbae766f571d407ba1506112b0e572af6a4d67"
   }
  }
 },
 "nbformat": 4,
 "nbformat_minor": 2
}
